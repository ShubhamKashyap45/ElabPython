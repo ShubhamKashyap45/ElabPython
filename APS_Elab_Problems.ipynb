{
 "cells": [
  {
   "cell_type": "code",
   "execution_count": 4,
   "metadata": {},
   "outputs": [
    {
     "name": "stdout",
     "output_type": "stream",
     "text": [
      "25\n",
      "12\n",
      "1988\n",
      "The minimum value is 12\n",
      "The maximum value is 1988\n",
      "The middle value is 25\n"
     ]
    }
   ],
   "source": [
    "# Three Idiots\n",
    "\n",
    "a = int(input())\n",
    "b = int(input())\n",
    "c = int(input())\n",
    "\n",
    "x = min(a,b,c)\n",
    "print('The minimum value is' , x)\n",
    "\n",
    "y = max(a,b,c)\n",
    "print('The maximum value is', y)\n",
    "\n",
    "d = (int(a) + int(b) + int(c)) - (x + y)\n",
    "print('The middle value is' , d)\n"
   ]
  },
  {
   "cell_type": "code",
   "execution_count": 5,
   "metadata": {},
   "outputs": [
    {
     "name": "stdout",
     "output_type": "stream",
     "text": [
      "5\n",
      "5\n",
      "The area of the triangle is 12.5\n"
     ]
    }
   ],
   "source": [
    "# Traingle\n",
    "\n",
    "b = int(input())\n",
    "h = int(input())\n",
    "\n",
    "area = b*h/2\n",
    "\n",
    "print('The area of the triangle is', area)"
   ]
  },
  {
   "cell_type": "code",
   "execution_count": null,
   "metadata": {},
   "outputs": [],
   "source": [
    "# Gravitational Force\n",
    "\n",
    "M1 = float(input())\n",
    "M2 = float(input())\n",
    "r = float(input())\n",
    "G = 6.674*10**-11\n",
    "\n",
    "F = G*(M1*M2)/r**2\n",
    "\n",
    "Formatted_float = \"{:.2f}\".format(F)\n",
    "\n",
    "print(Formatted_float, 'N')\n"
   ]
  },
  {
   "cell_type": "code",
   "execution_count": null,
   "metadata": {},
   "outputs": [],
   "source": [
    "# Display It\n",
    "\n",
    "Name = input()\n",
    "Email = input()\n",
    "Address = input()\n",
    "Pin = int(input())\n",
    "\n",
    "print(Name)\n",
    "print(Email)\n",
    "print(Address)\n",
    "print(Pin)\n",
    "\n"
   ]
  },
  {
   "cell_type": "code",
   "execution_count": null,
   "metadata": {},
   "outputs": [],
   "source": [
    "# Area and Perimeter of Circle\n",
    "\n",
    "pi = 3.14\n",
    "r = float(input())\n",
    "\n",
    "Area = pi*r**2\n",
    "Perimeter = 2*pi*r\n",
    "\n",
    "print('Area=', \"%.2f\" % Area)\n",
    "print('Perimeter=', \"{:.2f}\".format(Perimeter))\n"
   ]
  },
  {
   "cell_type": "code",
   "execution_count": null,
   "metadata": {},
   "outputs": [],
   "source": [
    "# Display Name\n",
    "\n",
    "Name = input()\n",
    "\n",
    "print('Welcome ' + Name)"
   ]
  },
  {
   "cell_type": "code",
   "execution_count": null,
   "metadata": {},
   "outputs": [],
   "source": [
    "# Height Units\n",
    "\n",
    "feet = float(input())\n",
    "inch = float(input())\n",
    "\n",
    "f = feet*12*2.54 #cm\n",
    "i = inch*2.54 #cm\n",
    "\n",
    "h = float(f) + float(i)\n",
    "\n",
    "print('Your height in centimeters is', \"{:.2f}\".format(h))\n",
    "\n",
    "\n"
   ]
  },
  {
   "cell_type": "code",
   "execution_count": null,
   "metadata": {},
   "outputs": [],
   "source": [
    "# India Vs England 50-50 Match\n",
    "\n",
    "n = int(input())\n",
    "if (n%2==0):\n",
    "  print('INDIA')\n",
    "else:\n",
    "  print('ENGLAND')"
   ]
  },
  {
   "cell_type": "code",
   "execution_count": null,
   "metadata": {},
   "outputs": [],
   "source": [
    "# Game of Digits\n",
    "\n",
    "n = int(input())\n",
    "\n",
    "sum_of_digits = sum(int(digit) for digit in str(n))\n",
    "\n",
    "print('The total sum of digits is:', sum_of_digits)"
   ]
  },
  {
   "cell_type": "code",
   "execution_count": null,
   "metadata": {},
   "outputs": [],
   "source": [
    "# Average\n",
    "\n",
    "n=int(input())\n",
    "a=[]\n",
    "for i in range(0,n):\n",
    "    elem=int(input())\n",
    "    a.append(elem)\n",
    "avg=sum(a)/n\n",
    "print(round(avg))"
   ]
  },
  {
   "cell_type": "code",
   "execution_count": 8,
   "metadata": {},
   "outputs": [
    {
     "name": "stdout",
     "output_type": "stream",
     "text": [
      "6\n",
      "1\n"
     ]
    }
   ],
   "source": [
    "# Mirror Image 2\n",
    "\n",
    "n = int(input())\n",
    "count = 0\n",
    "\n",
    "while(n>0):\n",
    "  count = count + 1\n",
    "  n = n//10\n",
    "  \n",
    "print(count)"
   ]
  },
  {
   "cell_type": "code",
   "execution_count": 7,
   "metadata": {},
   "outputs": [
    {
     "name": "stdout",
     "output_type": "stream",
     "text": [
      "March 12\n",
      "12\n",
      "Sorry No National Holidays\n"
     ]
    }
   ],
   "source": [
    "# India National Holidays\n",
    "\n",
    "month = input()\n",
    "date = int(input())\n",
    "\n",
    "if month == 'January' and date == 1:\n",
    "  print('New Year')\n",
    "  \n",
    "elif month == 'August' and date == 15:\n",
    "  print('Independence Day')\n",
    "\n",
    "elif month == 'January' and date == 26:\n",
    "  print('Republic Day')\n",
    "  \n",
    "else:\n",
    "  print('Sorry No National Holidays')\n"
   ]
  },
  {
   "cell_type": "code",
   "execution_count": 6,
   "metadata": {},
   "outputs": [
    {
     "name": "stdout",
     "output_type": "stream",
     "text": [
      "7\n",
      "Heptagon\n"
     ]
    }
   ],
   "source": [
    "# Shape Form\n",
    "\n",
    "n = int(input())\n",
    "\n",
    "if n == 7:\n",
    "  print('Heptagon')\n",
    "  \n",
    "elif n == 8:\n",
    "  print('Octagon')\n",
    "  \n",
    "elif n == 9:\n",
    "  print('Nanogon')\n",
    "  \n",
    "elif n == 10:\n",
    "  print('Decagon')\n",
    "  \n",
    "else:\n",
    "  print('Invalid Number')"
   ]
  },
  {
   "cell_type": "code",
   "execution_count": 2,
   "metadata": {},
   "outputs": [
    {
     "name": "stdout",
     "output_type": "stream",
     "text": [
      "4\n",
      "1\n",
      "2\n",
      "6\n",
      "24\n"
     ]
    }
   ],
   "source": [
    "# Factorial \n",
    "\n",
    "n = int(input())\n",
    "factorial = 1\n",
    "\n",
    "if n<0:\n",
    "    print('Sorry,factorial does not exist for negative numbers')\n",
    "    \n",
    "else:\n",
    "    for i in range(1, n + 1):\n",
    "        factorial = factorial*i\n",
    "        print(factorial)\n",
    "    \n",
    "    "
   ]
  },
  {
   "cell_type": "code",
   "execution_count": 1,
   "metadata": {},
   "outputs": [
    {
     "name": "stdout",
     "output_type": "stream",
     "text": [
      "6\n",
      "2\n",
      "3\n",
      "6\n",
      "1\n"
     ]
    }
   ],
   "source": [
    "# FACTORS\n",
    "\n",
    "def print_factors(x):\n",
    "   for i in range(2,x + 1):\n",
    "       if x % i == 0:\n",
    "           print(i)\n",
    "          \n",
    "num = int(input())\n",
    "\n",
    "print_factors(num)\n",
    "print('1')"
   ]
  },
  {
   "cell_type": "code",
   "execution_count": 1,
   "metadata": {},
   "outputs": [
    {
     "name": "stdout",
     "output_type": "stream",
     "text": [
      "A2\n",
      "110\n"
     ]
    }
   ],
   "source": [
    "# Note To Frequency - A NOTE\n",
    "\n",
    "note=str(input())\n",
    "for char in note:\n",
    "  if char.isdigit():\n",
    "     freq=440.00/(2**(4-int(char)))\n",
    "print(int(freq))"
   ]
  },
  {
   "cell_type": "code",
   "execution_count": null,
   "metadata": {},
   "outputs": [],
   "source": [
    "# Note To Frequency - F NOTE\n",
    "\n",
    "note=str(input())\n",
    "for char in note:\n",
    "  if char.isdigit():\n",
    "     freq=349.63/(2**(4-int(char)))\n",
    "print(float(freq))"
   ]
  },
  {
   "cell_type": "code",
   "execution_count": null,
   "metadata": {},
   "outputs": [],
   "source": [
    "# Note To Frequency - C NOTE\n",
    "\n",
    "note=str(input())\n",
    "for char in note:\n",
    "  if char.isdigit():\n",
    "     freq=261.63/(2**(4-int(char)))\n",
    "print(float(freq))"
   ]
  },
  {
   "cell_type": "code",
   "execution_count": null,
   "metadata": {},
   "outputs": [],
   "source": [
    "#  Number of digits\n",
    "\n",
    "def countDigit(n):\n",
    "    if n == 0:\n",
    "        return 0\n",
    "    return 1 + countDigit(n // 10)\n",
    " \n",
    " \n",
    "n = int(input())\n",
    "print((countDigit(n)))"
   ]
  },
  {
   "cell_type": "code",
   "execution_count": 1,
   "metadata": {},
   "outputs": [
    {
     "name": "stdout",
     "output_type": "stream",
     "text": [
      "24\n",
      "6\n",
      "6\n"
     ]
    }
   ],
   "source": [
    "# GCD\n",
    "\n",
    "n = int(input())\n",
    "m = int(input())\n",
    "\n",
    "def compute_hcf(x, y):\n",
    "\n",
    "# choose the smaller number\n",
    "    if x > y:\n",
    "        smaller = y\n",
    "    else:\n",
    "        smaller = x\n",
    "    for i in range(1, smaller+1):\n",
    "        if((x % i == 0) and (y % i == 0)):\n",
    "            hcf = i \n",
    "    return hcf\n",
    "\n",
    "\n",
    "print(compute_hcf(n,m))"
   ]
  },
  {
   "cell_type": "code",
   "execution_count": null,
   "metadata": {},
   "outputs": [],
   "source": [
    "# Ends with \n",
    "\n",
    "name=str(input())\n",
    "last=input()\n",
    "if name[-1]==last:\n",
    "   print(\"YES\")\n",
    "else:\n",
    "  print(\"NO\")"
   ]
  },
  {
   "cell_type": "code",
   "execution_count": 2,
   "metadata": {},
   "outputs": [
    {
     "name": "stdout",
     "output_type": "stream",
     "text": [
      "1\n",
      "8\n",
      "The total sum of digits is: : 9\n"
     ]
    }
   ],
   "source": [
    "digit1 = int(input())\n",
    "digit2 = int(input())\n",
    "\n",
    "print(\"The total sum of digits is: :\", digit1 + digit2)"
   ]
  },
  {
   "cell_type": "code",
   "execution_count": null,
   "metadata": {},
   "outputs": [],
   "source": [
    "# Club Me - Club two lists\n",
    "n = int(input())\n",
    "l = [int(input()) for i in range(n)]\n",
    "m = int(input())\n",
    "li = [int(input()) for i in range(m)]\n",
    "l = l+li\n",
    "l.sort()\n",
    "print(\"Sorted list is:\",l)\n"
   ]
  },
  {
   "cell_type": "code",
   "execution_count": null,
   "metadata": {},
   "outputs": [],
   "source": [
    "# Reverse Order\n",
    "l = []\n",
    "n = int(input())\n",
    "while n!=0:\n",
    "  l.append(n)\n",
    "  n = int(input())\n",
    "for i in range(len(l)-1 , -1 , -1):\n",
    "  print(l[i])"
   ]
  },
  {
   "cell_type": "code",
   "execution_count": null,
   "metadata": {},
   "outputs": [],
   "source": [
    "# Range Function\n",
    "a = int(input())\n",
    "b = int(input())\n",
    "l = [(x,x**2) for x in range(a,b+1)]\n",
    "print(l)"
   ]
  },
  {
   "cell_type": "code",
   "execution_count": null,
   "metadata": {},
   "outputs": [],
   "source": [
    "# Perfect Square\n",
    "a = int(input())\n",
    "b = int(input())\n",
    "asrt = int(a**0.5)\n",
    "bsrt = int(b**0.5)\n",
    "print([i**2 for i in range(asrt if asrt==a else asrt+1,bsrt+1)])"
   ]
  },
  {
   "cell_type": "code",
   "execution_count": null,
   "metadata": {},
   "outputs": [],
   "source": [
    "# Seasoners\n",
    "m = input()\n",
    "d = int(input())\n",
    "if(m==\"Apr\" or m==\"May\"):print(\"Summer\")\n",
    "elif(m==\"Jun\"):\n",
    "  if d<21:print(\"Summer\")\n",
    "  else:   print(\"Spring\")\n",
    "elif(m==\"Jul\" or m==\"Aug\"):print(\"Spring\")\n",
    "elif(m==\"Sep\"):\n",
    "  if d<22:print(\"Spring\")\n",
    "  else:   print(\"Fall\")\n",
    "elif(m==\"Oct\" or m==\"Nov\"):print(\"Fall\")\n",
    "elif(m==\"Dec\"):\n",
    "  if d<21:print(\"Fall\")\n",
    "  else:   print(\"Winter\")\n",
    "elif(m==\"Jan\" or m==\"Feb\"):print(\"Winter\")\n",
    "elif(m==\"Mar\"):\n",
    "  if d<20:print(\"Winter\")\n",
    "  else:   print(\"Summer\")"
   ]
  },
  {
   "cell_type": "code",
   "execution_count": null,
   "metadata": {},
   "outputs": [],
   "source": []
  },
  {
   "cell_type": "code",
   "execution_count": null,
   "metadata": {},
   "outputs": [],
   "source": []
  },
  {
   "cell_type": "code",
   "execution_count": null,
   "metadata": {},
   "outputs": [],
   "source": []
  },
  {
   "cell_type": "code",
   "execution_count": null,
   "metadata": {},
   "outputs": [],
   "source": []
  },
  {
   "cell_type": "code",
   "execution_count": null,
   "metadata": {},
   "outputs": [],
   "source": []
  },
  {
   "cell_type": "code",
   "execution_count": null,
   "metadata": {},
   "outputs": [],
   "source": []
  },
  {
   "cell_type": "code",
   "execution_count": null,
   "metadata": {},
   "outputs": [],
   "source": []
  }
 ],
 "metadata": {
  "kernelspec": {
   "display_name": "Python 3",
   "language": "python",
   "name": "python3"
  },
  "language_info": {
   "codemirror_mode": {
    "name": "ipython",
    "version": 3
   },
   "file_extension": ".py",
   "mimetype": "text/x-python",
   "name": "python",
   "nbconvert_exporter": "python",
   "pygments_lexer": "ipython3",
   "version": "3.7.6"
  }
 },
 "nbformat": 4,
 "nbformat_minor": 4
}
