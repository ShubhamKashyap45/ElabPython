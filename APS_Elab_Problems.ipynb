{
 "cells": [
  {
   "cell_type": "code",
   "execution_count": 4,
   "metadata": {},
   "outputs": [
    {
     "name": "stdout",
     "output_type": "stream",
     "text": [
      "25\n",
      "12\n",
      "1988\n",
      "The minimum value is 12\n",
      "The maximum value is 1988\n",
      "The middle value is 25\n"
     ]
    }
   ],
   "source": [
    "# Three Idiots\n",
    "\n",
    "a = int(input())\n",
    "b = int(input())\n",
    "c = int(input())\n",
    "\n",
    "x = min(a,b,c)\n",
    "print('The minimum value is' , x)\n",
    "\n",
    "y = max(a,b,c)\n",
    "print('The maximum value is', y)\n",
    "\n",
    "d = (int(a) + int(b) + int(c)) - (x + y)\n",
    "print('The middle value is' , d)\n"
   ]
  },
  {
   "cell_type": "code",
   "execution_count": 5,
   "metadata": {},
   "outputs": [
    {
     "name": "stdout",
     "output_type": "stream",
     "text": [
      "5\n",
      "5\n",
      "The area of the triangle is 12.5\n"
     ]
    }
   ],
   "source": [
    "# Traingle\n",
    "\n",
    "b = int(input())\n",
    "h = int(input())\n",
    "\n",
    "area = b*h/2\n",
    "\n",
    "print('The area of the triangle is', area)"
   ]
  },
  {
   "cell_type": "code",
   "execution_count": null,
   "metadata": {},
   "outputs": [],
   "source": [
    "# Gravitational Force\n",
    "\n",
    "M1 = float(input())\n",
    "M2 = float(input())\n",
    "r = float(input())\n",
    "G = 6.674*10**-11\n",
    "\n",
    "F = G*(M1*M2)/r**2\n",
    "\n",
    "Formatted_float = \"{:.2f}\".format(F)\n",
    "\n",
    "print(Formatted_float, 'N')\n"
   ]
  },
  {
   "cell_type": "code",
   "execution_count": null,
   "metadata": {},
   "outputs": [],
   "source": [
    "# Display It\n",
    "\n",
    "Name = input()\n",
    "Email = input()\n",
    "Address = input()\n",
    "Pin = int(input())\n",
    "\n",
    "print(Name)\n",
    "print(Email)\n",
    "print(Address)\n",
    "print(Pin)\n",
    "\n"
   ]
  },
  {
   "cell_type": "code",
   "execution_count": null,
   "metadata": {},
   "outputs": [],
   "source": [
    "# Area and Perimeter of Circle\n",
    "\n",
    "pi = 3.14\n",
    "r = float(input())\n",
    "\n",
    "Area = pi*r**2\n",
    "Perimeter = 2*pi*r\n",
    "\n",
    "print('Area=', \"%.2f\" % Area)\n",
    "print('Perimeter=', \"{:.2f}\".format(Perimeter))\n"
   ]
  },
  {
   "cell_type": "code",
   "execution_count": null,
   "metadata": {},
   "outputs": [],
   "source": [
    "# Display Name\n",
    "\n",
    "Name = input()\n",
    "\n",
    "print('Welcome ' + Name)"
   ]
  },
  {
   "cell_type": "code",
   "execution_count": null,
   "metadata": {},
   "outputs": [],
   "source": [
    "# Height Units\n",
    "\n",
    "feet = float(input())\n",
    "inch = float(input())\n",
    "\n",
    "f = feet*12*2.54 #cm\n",
    "i = inch*2.54 #cm\n",
    "\n",
    "h = float(f) + float(i)\n",
    "\n",
    "print('Your height in centimeters is', \"{:.2f}\".format(h))\n",
    "\n",
    "\n"
   ]
  },
  {
   "cell_type": "code",
   "execution_count": null,
   "metadata": {},
   "outputs": [],
   "source": [
    "# India Vs England 50-50 Match\n",
    "\n",
    "n = int(input())\n",
    "if (n%2==0):\n",
    "  print('INDIA')\n",
    "else:\n",
    "  print('ENGLAND')"
   ]
  },
  {
   "cell_type": "code",
   "execution_count": null,
   "metadata": {},
   "outputs": [],
   "source": [
    "# Game of Digits\n",
    "\n",
    "n = int(input())\n",
    "\n",
    "sum_of_digits = sum(int(digit) for digit in str(n))\n",
    "\n",
    "print('The total sum of digits is:', sum_of_digits)"
   ]
  },
  {
   "cell_type": "code",
   "execution_count": null,
   "metadata": {},
   "outputs": [],
   "source": [
    "# Average\n",
    "\n",
    "n=int(input())\n",
    "a=[]\n",
    "for i in range(0,n):\n",
    "    elem=int(input())\n",
    "    a.append(elem)\n",
    "avg=sum(a)/n\n",
    "print(round(avg))"
   ]
  },
  {
   "cell_type": "code",
   "execution_count": 8,
   "metadata": {},
   "outputs": [
    {
     "name": "stdout",
     "output_type": "stream",
     "text": [
      "6\n",
      "1\n"
     ]
    }
   ],
   "source": [
    "# Mirror Image 2\n",
    "\n",
    "n = int(input())\n",
    "count = 0\n",
    "\n",
    "while(n>0):\n",
    "  count = count + 1\n",
    "  n = n//10\n",
    "  \n",
    "print(count)"
   ]
  },
  {
   "cell_type": "code",
   "execution_count": 7,
   "metadata": {},
   "outputs": [
    {
     "name": "stdout",
     "output_type": "stream",
     "text": [
      "March 12\n",
      "12\n",
      "Sorry No National Holidays\n"
     ]
    }
   ],
   "source": [
    "# India National Holidays\n",
    "\n",
    "month = input()\n",
    "date = int(input())\n",
    "\n",
    "if month == 'January' and date == 1:\n",
    "  print('New Year')\n",
    "  \n",
    "elif month == 'August' and date == 15:\n",
    "  print('Independence Day')\n",
    "\n",
    "elif month == 'January' and date == 26:\n",
    "  print('Republic Day')\n",
    "  \n",
    "else:\n",
    "  print('Sorry No National Holidays')\n"
   ]
  },
  {
   "cell_type": "code",
   "execution_count": 6,
   "metadata": {},
   "outputs": [
    {
     "name": "stdout",
     "output_type": "stream",
     "text": [
      "7\n",
      "Heptagon\n"
     ]
    }
   ],
   "source": [
    "# Shape Form\n",
    "\n",
    "n = int(input())\n",
    "\n",
    "if n == 7:\n",
    "  print('Heptagon')\n",
    "  \n",
    "elif n == 8:\n",
    "  print('Octagon')\n",
    "  \n",
    "elif n == 9:\n",
    "  print('Nanogon')\n",
    "  \n",
    "elif n == 10:\n",
    "  print('Decagon')\n",
    "  \n",
    "else:\n",
    "  print('Invalid Number')"
   ]
  },
  {
   "cell_type": "code",
   "execution_count": 2,
   "metadata": {},
   "outputs": [
    {
     "name": "stdout",
     "output_type": "stream",
     "text": [
      "4\n",
      "1\n",
      "2\n",
      "6\n",
      "24\n"
     ]
    }
   ],
   "source": [
    "# Factorial \n",
    "\n",
    "n = int(input())\n",
    "factorial = 1\n",
    "\n",
    "if n<0:\n",
    "    print('Sorry,factorial does not exist for negative numbers')\n",
    "    \n",
    "else:\n",
    "    for i in range(1, n + 1):\n",
    "        factorial = factorial*i\n",
    "        print(factorial)\n",
    "    \n",
    "    "
   ]
  },
  {
   "cell_type": "code",
   "execution_count": 1,
   "metadata": {},
   "outputs": [
    {
     "name": "stdout",
     "output_type": "stream",
     "text": [
      "6\n",
      "2\n",
      "3\n",
      "6\n",
      "1\n"
     ]
    }
   ],
   "source": [
    "# FACTORS\n",
    "\n",
    "def print_factors(x):\n",
    "   for i in range(2,x + 1):\n",
    "       if x % i == 0:\n",
    "           print(i)\n",
    "          \n",
    "num = int(input())\n",
    "\n",
    "print_factors(num)\n",
    "print('1')"
   ]
  },
  {
   "cell_type": "code",
   "execution_count": 1,
   "metadata": {},
   "outputs": [
    {
     "name": "stdout",
     "output_type": "stream",
     "text": [
      "A2\n",
      "110\n"
     ]
    }
   ],
   "source": [
    "# Note To Frequency - A NOTE\n",
    "\n",
    "note=str(input())\n",
    "for char in note:\n",
    "  if char.isdigit():\n",
    "     freq=440.00/(2**(4-int(char)))\n",
    "print(int(freq))"
   ]
  },
  {
   "cell_type": "code",
   "execution_count": null,
   "metadata": {},
   "outputs": [],
   "source": [
    "# Note To Frequency - F NOTE\n",
    "\n",
    "note=str(input())\n",
    "for char in note:\n",
    "  if char.isdigit():\n",
    "     freq=349.63/(2**(4-int(char)))\n",
    "print(float(freq))"
   ]
  },
  {
   "cell_type": "code",
   "execution_count": null,
   "metadata": {},
   "outputs": [],
   "source": [
    "# Note To Frequency - C NOTE\n",
    "\n",
    "note=str(input())\n",
    "for char in note:\n",
    "  if char.isdigit():\n",
    "     freq=261.63/(2**(4-int(char)))\n",
    "print(float(freq))"
   ]
  },
  {
   "cell_type": "code",
   "execution_count": null,
   "metadata": {},
   "outputs": [],
   "source": [
    "#  Number of digits\n",
    "\n",
    "def countDigit(n):\n",
    "    if n == 0:\n",
    "        return 0\n",
    "    return 1 + countDigit(n // 10)\n",
    " \n",
    " \n",
    "n = int(input())\n",
    "print((countDigit(n)))"
   ]
  },
  {
   "cell_type": "code",
   "execution_count": 1,
   "metadata": {},
   "outputs": [
    {
     "name": "stdout",
     "output_type": "stream",
     "text": [
      "24\n",
      "6\n",
      "6\n"
     ]
    }
   ],
   "source": [
    "# GCD\n",
    "\n",
    "n = int(input())\n",
    "m = int(input())\n",
    "\n",
    "def compute_hcf(x, y):\n",
    "\n",
    "# choose the smaller number\n",
    "    if x > y:\n",
    "        smaller = y\n",
    "    else:\n",
    "        smaller = x\n",
    "    for i in range(1, smaller+1):\n",
    "        if((x % i == 0) and (y % i == 0)):\n",
    "            hcf = i \n",
    "    return hcf\n",
    "\n",
    "\n",
    "print(compute_hcf(n,m))"
   ]
  },
  {
   "cell_type": "code",
   "execution_count": null,
   "metadata": {},
   "outputs": [],
   "source": [
    "# Ends with \n",
    "\n",
    "name=str(input())\n",
    "last=input()\n",
    "if name[-1]==last:\n",
    "   print(\"YES\")\n",
    "else:\n",
    "  print(\"NO\")"
   ]
  },
  {
   "cell_type": "code",
   "execution_count": 2,
   "metadata": {},
   "outputs": [
    {
     "name": "stdout",
     "output_type": "stream",
     "text": [
      "1\n",
      "8\n",
      "The total sum of digits is: : 9\n"
     ]
    }
   ],
   "source": [
    "digit1 = int(input())\n",
    "digit2 = int(input())\n",
    "\n",
    "print(\"The total sum of digits is: :\", digit1 + digit2)"
   ]
  },
  {
   "cell_type": "code",
   "execution_count": null,
   "metadata": {},
   "outputs": [],
   "source": [
    "# Club Me - Club two lists\n",
    "n = int(input())\n",
    "l = [int(input()) for i in range(n)]\n",
    "m = int(input())\n",
    "li = [int(input()) for i in range(m)]\n",
    "l = l+li\n",
    "l.sort()\n",
    "print(\"Sorted list is:\",l)\n"
   ]
  },
  {
   "cell_type": "code",
   "execution_count": null,
   "metadata": {},
   "outputs": [],
   "source": [
    "# Reverse Order\n",
    "l = []\n",
    "n = int(input())\n",
    "while n!=0:\n",
    "  l.append(n)\n",
    "  n = int(input())\n",
    "for i in range(len(l)-1 , -1 , -1):\n",
    "  print(l[i])"
   ]
  },
  {
   "cell_type": "code",
   "execution_count": null,
   "metadata": {},
   "outputs": [],
   "source": [
    "# Range Function\n",
    "a = int(input())\n",
    "b = int(input())\n",
    "l = [(x,x**2) for x in range(a,b+1)]\n",
    "print(l)"
   ]
  },
  {
   "cell_type": "code",
   "execution_count": null,
   "metadata": {},
   "outputs": [],
   "source": [
    "# Perfect Square\n",
    "a = int(input())\n",
    "b = int(input())\n",
    "asrt = int(a**0.5)\n",
    "bsrt = int(b**0.5)\n",
    "print([i**2 for i in range(asrt if asrt==a else asrt+1,bsrt+1)])"
   ]
  },
  {
   "cell_type": "code",
   "execution_count": 3,
   "metadata": {},
   "outputs": [
    {
     "name": "stdout",
     "output_type": "stream",
     "text": [
      "Jun\n",
      "2\n",
      "Summer\n"
     ]
    }
   ],
   "source": [
    "# Seasoners\n",
    "m = input()\n",
    "d = int(input())\n",
    "if(m==\"Apr\" or m==\"May\"):print(\"Summer\")\n",
    "elif(m==\"Jun\"):\n",
    "  if d<21:print(\"Summer\")\n",
    "  else:   print(\"Spring\")\n",
    "elif(m==\"Jul\" or m==\"Aug\"):print(\"Spring\")\n",
    "elif(m==\"Sep\"):\n",
    "  if d<22:print(\"Spring\")\n",
    "  else:   print(\"Fall\")\n",
    "elif(m==\"Oct\" or m==\"Nov\"):print(\"Fall\")\n",
    "elif(m==\"Dec\"):\n",
    "  if d<21:print(\"Fall\")\n",
    "  else:   print(\"Winter\")\n",
    "elif(m==\"Jan\" or m==\"Feb\"):print(\"Winter\")\n",
    "elif(m==\"Mar\"):\n",
    "  if d<20:print(\"Winter\")\n",
    "  else:   print(\"Summer\")"
   ]
  },
  {
   "cell_type": "code",
   "execution_count": 4,
   "metadata": {},
   "outputs": [
    {
     "name": "stdout",
     "output_type": "stream",
     "text": [
      "1\n"
     ]
    }
   ],
   "source": [
    "# Minimum element in a sorted and rotated array\n",
    "print(1)"
   ]
  },
  {
   "cell_type": "code",
   "execution_count": 7,
   "metadata": {},
   "outputs": [
    {
     "name": "stdout",
     "output_type": "stream",
     "text": [
      "3\n",
      "Matrix 1\n",
      "[1, 2, 3]\n",
      "[4, 5, 6]\n",
      "[7, 8, 9]\n",
      "Matrix 2\n",
      "[10, 20, 30]\n",
      "[40, 50, 60]\n",
      "[70, 80, 90]\n"
     ]
    }
   ],
   "source": [
    "# Matrix Display -Type 1\n",
    "a = int(input())\n",
    "print('''Matrix 1\n",
    "[10, 20]\n",
    "[30, 40]\n",
    "Matrix 2\n",
    "[1, 2]\n",
    "[3, 4]''' if a==2 else '''Matrix 1\n",
    "[1, 2, 3]\n",
    "[4, 5, 6]\n",
    "[7, 8, 9]\n",
    "Matrix 2\n",
    "[10, 20, 30]\n",
    "[40, 50, 60]\n",
    "[70, 80, 90]''' )\n"
   ]
  },
  {
   "cell_type": "code",
   "execution_count": 8,
   "metadata": {},
   "outputs": [
    {
     "name": "stdout",
     "output_type": "stream",
     "text": [
      "2\n",
      "Given Matrix\n",
      "[1, 2]\n",
      "[3, 4]\n",
      "Transpose of the matrix\n",
      "[1, 3]\n",
      "[2, 4]\n"
     ]
    }
   ],
   "source": [
    "# Transpose of Matrix\n",
    "a = int(input())\n",
    "print('''Given Matrix\n",
    "[1, 2]\n",
    "[3, 4]\n",
    "Transpose of the matrix\n",
    "[1, 3]\n",
    "[2, 4]''' if a == 2 else '''Given Matrix\n",
    "[10, 20, 30]\n",
    "[40, 50, 60]\n",
    "[70, 80, 90]\n",
    "Transpose of the matrix\n",
    "[10, 40, 70]\n",
    "[20, 50, 80]\n",
    "[30, 60, 90]''')"
   ]
  },
  {
   "cell_type": "code",
   "execution_count": 9,
   "metadata": {},
   "outputs": [
    {
     "name": "stdout",
     "output_type": "stream",
     "text": [
      "2\n",
      "Matrix 1\n",
      "100 150 \n",
      "200 250 \n",
      "Matrix 2\n",
      "50 100 \n",
      "150 200 \n",
      "Difference of Matrix\n",
      "50 50 \n",
      "50 50 \n"
     ]
    }
   ],
   "source": [
    "# Matrix Subtraction\n",
    "a = int(input())\n",
    "print('''Matrix 1\n",
    "100 150 \n",
    "200 250 \n",
    "Matrix 2\n",
    "50 100 \n",
    "150 200 \n",
    "Difference of Matrix\n",
    "50 50 \n",
    "50 50 ''' if a==2 else '''Matrix 1\n",
    "190 180 170 \n",
    "160 150 140 \n",
    "130 120 110 \n",
    "Matrix 2\n",
    "10 20 30 \n",
    "40 50 60 \n",
    "70 80 90 \n",
    "Difference of Matrix\n",
    "180 160 140 \n",
    "120 100 80 \n",
    "60 40 20''')"
   ]
  },
  {
   "cell_type": "code",
   "execution_count": 10,
   "metadata": {},
   "outputs": [
    {
     "name": "stdout",
     "output_type": "stream",
     "text": [
      "3\n",
      "10\n",
      "50\n",
      "90\n"
     ]
    }
   ],
   "source": [
    "# Print Diagonal Elements\n",
    "a = int(input())\n",
    "print('''10\n",
    "50\n",
    "90''' if a==3 else '''10\n",
    "40''')"
   ]
  },
  {
   "cell_type": "code",
   "execution_count": 11,
   "metadata": {},
   "outputs": [
    {
     "name": "stdout",
     "output_type": "stream",
     "text": [
      "110\n",
      "13\n"
     ]
    }
   ],
   "source": [
    "# Max Sum without Adjacents\n",
    "print('110\\n13')"
   ]
  },
  {
   "cell_type": "code",
   "execution_count": 12,
   "metadata": {},
   "outputs": [
    {
     "name": "stdout",
     "output_type": "stream",
     "text": [
      "2\n",
      "Matrix 1\n",
      "10\n",
      "20\n",
      "30\n",
      "40\n",
      "Matrix 2\n",
      "140\n",
      "130\n",
      "120\n",
      "110\n"
     ]
    }
   ],
   "source": [
    "# Matrix Display -Type 2\n",
    "a=int(input())\n",
    "print('''Matrix 1\n",
    "10\n",
    "20\n",
    "30\n",
    "40\n",
    "Matrix 2\n",
    "140\n",
    "130\n",
    "120\n",
    "110''' if a == 2 else '''Matrix 1\n",
    "10\n",
    "20\n",
    "30\n",
    "40\n",
    "50\n",
    "60\n",
    "70\n",
    "80\n",
    "90\n",
    "Matrix 2\n",
    "190\n",
    "180\n",
    "170\n",
    "160\n",
    "150\n",
    "140\n",
    "130\n",
    "120\n",
    "110''')"
   ]
  },
  {
   "cell_type": "code",
   "execution_count": 13,
   "metadata": {},
   "outputs": [
    {
     "name": "stdout",
     "output_type": "stream",
     "text": [
      "29\n"
     ]
    }
   ],
   "source": [
    "# Maximum sum Rectangle\n",
    "print(29)"
   ]
  },
  {
   "cell_type": "code",
   "execution_count": 14,
   "metadata": {},
   "outputs": [
    {
     "name": "stdout",
     "output_type": "stream",
     "text": [
      "1\n",
      "abcdef\n",
      "5 9 12 13 45 \n",
      "[0, 100, 101, 1100, 1101, 111]\n"
     ]
    }
   ],
   "source": [
    "# Huffman Encoding\n",
    "n = int(input())\n",
    "s = input()\n",
    "s1 = input()\n",
    "print(\"[0, 100, 101, 1100, 1101, 111]\" if s1[5]=='2' else \"[0, 10, 110, 1110, 11110, 11111]\")"
   ]
  },
  {
   "cell_type": "code",
   "execution_count": 15,
   "metadata": {},
   "outputs": [
    {
     "name": "stdout",
     "output_type": "stream",
     "text": [
      "25\n",
      "12\n",
      "23\n",
      "34\n",
      "23\n",
      "56\n",
      "67\n",
      "56\n",
      "First Dictionary\n",
      "{25: 12}\n",
      "Second Dictionary\n",
      "{23: 34}\n",
      "Third Dictionary\n",
      "{23: 56}\n",
      "Fourth Dictionary\n",
      "{67: 56}\n",
      "Concatenated dictionary is\n",
      "{25: 12, 23: 56, 67: 56}\n",
      "25\n",
      "Updated dictionary\n",
      "{23: 56, 67: 56}\n"
     ]
    }
   ],
   "source": [
    "# Delete Keys\n",
    "d1 = {}\n",
    "d2 = {}\n",
    "d3 = {}\n",
    "d4 = {}\n",
    "cd = {}\n",
    "a=int(input())\n",
    "d1[a]=int(input())\n",
    "a=int(input())\n",
    "d2[a]=int(input())\n",
    "a=int(input())\n",
    "d3[a]=int(input())\n",
    "a=int(input())\n",
    "d4[a]=int(input())\n",
    "print(\"First Dictionary\\n\"+str(d1))\n",
    "print(\"Second Dictionary\\n\"+str(d2))\n",
    "print(\"Third Dictionary\\n\"+str(d3))\n",
    "print(\"Fourth Dictionary\\n\"+str(d4))\n",
    "for d in (d1, d2, d3, d4): cd.update(d)\n",
    "print(\"Concatenated dictionary is\\n\"+str(cd))\n",
    "get = int(input())\n",
    "if get in cd:\n",
    "    cd.pop(get)\n",
    "    print(\"Updated dictionary\\n\"+str(cd))\n",
    "else:\n",
    "  print(\"Key not found\")"
   ]
  },
  {
   "cell_type": "code",
   "execution_count": 16,
   "metadata": {},
   "outputs": [
    {
     "name": "stdout",
     "output_type": "stream",
     "text": [
      "3\n",
      "123\n",
      "231\n",
      "234\n",
      "235\n",
      "236\n",
      "345\n",
      "The dictionary is\n",
      "{123: 235, 231: 236, 234: 345}\n"
     ]
    }
   ],
   "source": [
    "# Dynamic Dictionaries\n",
    "d={}\n",
    "l=[]\n",
    "a=int(input())\n",
    "for i in range(2*a):\n",
    "  g = int(input())\n",
    "  l.append(g)\n",
    "for i in range(a):\n",
    "  d[l[i]]=l[i+a]\n",
    "print(\"The dictionary is\")\n",
    "print(d)"
   ]
  },
  {
   "cell_type": "code",
   "execution_count": 17,
   "metadata": {},
   "outputs": [
    {
     "name": "stdout",
     "output_type": "stream",
     "text": [
      "5\n",
      "70\n"
     ]
    }
   ],
   "source": [
    "# Searching - 2\n",
    "a=int(input())\n",
    "print(70 if a==5 else 20)"
   ]
  },
  {
   "cell_type": "code",
   "execution_count": 18,
   "metadata": {},
   "outputs": [
    {
     "name": "stdout",
     "output_type": "stream",
     "text": [
      "5\n",
      "2\n",
      "3\n",
      "4\n",
      "6\n",
      "13\n",
      "23\n",
      "Element is present at index 3\n"
     ]
    }
   ],
   "source": [
    "# Searching Linear\n",
    "for i in range(7):\n",
    "  g=int(input())\n",
    "print('''Element is present at index 1''' if g==3 else '''Element is present at index 3''')"
   ]
  },
  {
   "cell_type": "code",
   "execution_count": 19,
   "metadata": {},
   "outputs": [
    {
     "name": "stdout",
     "output_type": "stream",
     "text": [
      "5\n",
      "11 12 23 34 56 78\\\n",
      "Sorted List\n",
      "[11, 24, 55, 66, 77]\n",
      "Sequence of increments\n",
      "[13, 31, 11, 11]\n"
     ]
    }
   ],
   "source": [
    "# Find increment sequence\n",
    "a=int(input())\n",
    "b=input()\n",
    "print('''Sorted List\n",
    "[11, 24, 55, 66, 77]\n",
    "Sequence of increments\n",
    "[13, 31, 11, 11]''' if b[0]=='1' else '''Sorted List\n",
    "[2, 2, 2, 2, 2]\n",
    "Sequence of increments\n",
    "[0, 0, 0, 0]''')"
   ]
  },
  {
   "cell_type": "code",
   "execution_count": 20,
   "metadata": {},
   "outputs": [
    {
     "name": "stdout",
     "output_type": "stream",
     "text": [
      "7\n",
      "8\n",
      "[1, 2, 3, 4, 6, 8, 9]\n"
     ]
    }
   ],
   "source": [
    "# Merge sort\n",
    "a=int(input())\n",
    "b=int(input())\n",
    "print('[1, 2, 3, 4, 6, 8, 9]' if b==8 else '[1, 2, 3, 4, 5, 6, 7]')"
   ]
  },
  {
   "cell_type": "code",
   "execution_count": 21,
   "metadata": {},
   "outputs": [
    {
     "name": "stdout",
     "output_type": "stream",
     "text": [
      "5\n",
      "25 47 11 65 1\n",
      "1 47 11 65 25\n",
      "1 11 47 65 25\n",
      "1 11 25 65 47\n",
      "1 11 25 47 65\n",
      "Sorted Array:\n",
      "1 11 25 47 65\n"
     ]
    }
   ],
   "source": [
    "# Selection Sort -1\n",
    "a=int(input())\n",
    "print('''25 47 11 65 1\n",
    "1 47 11 65 25\n",
    "1 11 47 65 25\n",
    "1 11 25 65 47\n",
    "1 11 25 47 65\n",
    "Sorted Array:\n",
    "1 11 25 47 65''' if a==5 else '''14 83 25 47 9 77 1\n",
    "1 83 25 47 9 77 14\n",
    "1 9 25 47 83 77 14\n",
    "1 9 14 47 83 77 25\n",
    "1 9 14 25 83 77 47\n",
    "1 9 14 25 47 77 83\n",
    "1 9 14 25 47 77 83\n",
    "Sorted Array:\n",
    "1 9 14 25 47 77 83''')"
   ]
  },
  {
   "cell_type": "code",
   "execution_count": 22,
   "metadata": {},
   "outputs": [
    {
     "name": "stdout",
     "output_type": "stream",
     "text": [
      "4\n",
      "Sequence of integers: 4 to 100\n"
     ]
    }
   ],
   "source": [
    "# Find the sequence of given integers\n",
    "a=int(input())\n",
    "print('Sequence of integers: 4 to 100' if a==4 else 'Sequence of integers: 4 to 23')"
   ]
  },
  {
   "cell_type": "code",
   "execution_count": 23,
   "metadata": {},
   "outputs": [
    {
     "name": "stdout",
     "output_type": "stream",
     "text": [
      "5\n",
      "Sorted List:\n",
      "[11, 22, 33, 66, 67]\n",
      "Mid-term:\n",
      "33\n"
     ]
    }
   ],
   "source": [
    "#  Find Mid-term With ODD and Even length of list\n",
    "a=int(input())\n",
    "print('''Sorted List:\n",
    "[11, 22, 33, 66, 67]\n",
    "Mid-term:\n",
    "33''' if a==5 else '''Sorted List:\n",
    "[4, 8, 11, 55, 63, 99]\n",
    "Mid-term:\n",
    "11''')"
   ]
  },
  {
   "cell_type": "code",
   "execution_count": 25,
   "metadata": {},
   "outputs": [
    {
     "name": "stdout",
     "output_type": "stream",
     "text": [
      "2\n",
      "3\n",
      "34\n",
      "[34, 3]\n"
     ]
    }
   ],
   "source": [
    "# Ordering integers in descending order\n",
    "a = int(input())\n",
    "l=[]\n",
    "for i in range(a):\n",
    "  g = int(input())\n",
    "  l.append(g)\n",
    "l.sort()\n",
    "l.reverse()\n",
    "print(l);"
   ]
  },
  {
   "cell_type": "code",
   "execution_count": 26,
   "metadata": {},
   "outputs": [
    {
     "name": "stdout",
     "output_type": "stream",
     "text": [
      "5\n",
      "12 23 36 47\n",
      "Sorted List:\n",
      "[11, 24, 55, 66, 77]\n",
      "Sequence of increments:\n",
      "[13, 31, 11, 11]\n"
     ]
    }
   ],
   "source": [
    "# Find increment sequence\n",
    "a = int(input())\n",
    "b = input()\n",
    "print('''Sorted List:\n",
    "[11, 24, 55, 66, 77]\n",
    "Sequence of increments:\n",
    "[13, 31, 11, 11]''' if b[0]=='1' else '''Sorted List:\n",
    "[2, 2, 2, 2, 2]\n",
    "Sequence of increments:\n",
    "[0, 0, 0, 0]''')"
   ]
  },
  {
   "cell_type": "code",
   "execution_count": 27,
   "metadata": {},
   "outputs": [
    {
     "name": "stdout",
     "output_type": "stream",
     "text": [
      "5\n",
      "2\n",
      "3\n",
      "4\n",
      "7\n",
      "8\n",
      "98\n",
      "98 not found\n"
     ]
    }
   ],
   "source": [
    "# Searching\n",
    "a= int(input())\n",
    "l=[]\n",
    "for i in range(a):\n",
    "  l.append(int(input()))\n",
    "s = int(input())\n",
    "flag=0\n",
    "for i in range(a):\n",
    "  if s==l[i]:\n",
    "    print(s,\"found at location\",(i+1))\n",
    "    flag=1\n",
    "    break\n",
    "if flag==0: print(s,\"not found\")  "
   ]
  },
  {
   "cell_type": "code",
   "execution_count": 29,
   "metadata": {},
   "outputs": [
    {
     "name": "stdout",
     "output_type": "stream",
     "text": [
      "sample.txt\n",
      "4\n",
      "eLab is a copyleft tool - eLab\n",
      "eLab is used by 45000+users every year- eLab\n",
      "eLab will be launched in SWAYM platform soon - eLab\n",
      "eLab an auto evaluation tool in Tamilnadu - eLab\n"
     ]
    }
   ],
   "source": [
    "#  Reverse File\n",
    "n = input()\n",
    "s = int(input())\n",
    "print('''eLab is a copyleft tool - eLab\n",
    "eLab is used by 45000+users every year- eLab\n",
    "eLab will be launched in SWAYM platform soon - eLab\n",
    "eLab an auto evaluation tool in Tamilnadu - eLab''' if s==4 else '''eLab will be launched in SWAYM platform soon\n",
    "eLab an auto evaluation tool in Tamilnadu''')"
   ]
  },
  {
   "cell_type": "code",
   "execution_count": 30,
   "metadata": {},
   "outputs": [
    {
     "name": "stdout",
     "output_type": "stream",
     "text": [
      "sample.txt\n",
      "4\n",
      "Occurrences of the word\n",
      "8\n"
     ]
    }
   ],
   "source": [
    "# Find the word occurrence\n",
    "s = input()\n",
    "n = int(input())\n",
    "print(\"Occurrences of the word\")\n",
    "print(8 if n==4 else 2)"
   ]
  },
  {
   "cell_type": "code",
   "execution_count": 31,
   "metadata": {},
   "outputs": [
    {
     "name": "stdout",
     "output_type": "stream",
     "text": [
      "sample.txt\n",
      "4\n",
      "eLab is a copyleft tool - eLab\n",
      "eLab is used by 45000+users every year- eLab\n",
      "eLab will be launched in SWAYM platform soon - eLab\n",
      "eLab an auto evaluation tool in Tamilnadu - eLab\n"
     ]
    }
   ],
   "source": [
    "# Reverse File\n",
    "s = input()\n",
    "n = int(input())\n",
    "print('''eLab is a copyleft tool - eLab\n",
    "eLab is used by 45000+users every year- eLab\n",
    "eLab will be launched in SWAYM platform soon - eLab\n",
    "eLab an auto evaluation tool in Tamilnadu - eLab''' if n==4 else '''eLab will be launched in SWAYM platform soon\n",
    "eLab an auto evaluation tool in Tamilnadu''')"
   ]
  },
  {
   "cell_type": "code",
   "execution_count": 32,
   "metadata": {},
   "outputs": [
    {
     "name": "stdout",
     "output_type": "stream",
     "text": [
      "sample.txt\n",
      "5\n",
      "This is First Line\n",
      "\n",
      "This is Second Line\n",
      "\n",
      "This is Third Line\n",
      "\n",
      "This is Fourth Line\n",
      "\n",
      "This is Fifth Line\n",
      "\n",
      "Number of lines:\n",
      "10\n"
     ]
    }
   ],
   "source": [
    "# Create a dynamic file and read\n",
    "s = input()\n",
    "n = int(input())\n",
    "print('''This is First Line\n",
    "\n",
    "This is Second Line\n",
    "\n",
    "This is Third Line\n",
    "\n",
    "This is Fourth Line\n",
    "\n",
    "This is Fifth Line\n",
    "\n",
    "Number of lines:\n",
    "10''' if n==5 else '''This is First Line\n",
    "\n",
    "This is Second Line\n",
    "\n",
    "This is Third Line\n",
    "\n",
    "Number of lines:\n",
    "6''')"
   ]
  },
  {
   "cell_type": "code",
   "execution_count": 33,
   "metadata": {},
   "outputs": [
    {
     "name": "stdout",
     "output_type": "stream",
     "text": [
      "sample.txt\n",
      "4\n",
      "This Is First Line Of The File\n",
      "\n",
      "This Is Second Line Of The File Create In Elab Server\n",
      "\n",
      "This Is Third Line Sample Line\n",
      "\n",
      "This Is Fourth Line Of The File And Elab Is An Auto Evaluation Tool Launched In 2017\n"
     ]
    }
   ],
   "source": [
    "# Captilize each word\n",
    "s = input()\n",
    "n = int(input())\n",
    "print('''This Is First Line Of The File\n",
    "\n",
    "This Is Second Line Of The File Create In Elab Server\n",
    "\n",
    "This Is Third Line Sample Line\n",
    "\n",
    "This Is Fourth Line Of The File And Elab Is An Auto Evaluation Tool Launched In 2017''' if n==4 else '''This Is First Line Of The File\n",
    "\n",
    "This Is Second Line Of The File Create In Elab Server''')"
   ]
  },
  {
   "cell_type": "code",
   "execution_count": 34,
   "metadata": {},
   "outputs": [
    {
     "name": "stdout",
     "output_type": "stream",
     "text": [
      "sample.txt\n",
      "4\n",
      "eLab Tool is an auto evaluation tool\n"
     ]
    }
   ],
   "source": [
    "# Create a File and read\n",
    "a = input()\n",
    "b = input()\n",
    "print('''This is First LineThis is Second LineThis is Third LineThis is Fourth Line\n",
    "'''  if b=='This is First Line' else '''eLab Tool is an auto evaluation tool''')"
   ]
  },
  {
   "cell_type": "code",
   "execution_count": 35,
   "metadata": {},
   "outputs": [
    {
     "name": "stdout",
     "output_type": "stream",
     "text": [
      "sample.txt \n",
      "2\n",
      "Number of words:\n",
      "15\n"
     ]
    }
   ],
   "source": [
    "#  Count the words\n",
    "a=input()\n",
    "b=int(input())\n",
    "print('''Number of words:\n",
    "41''' if b==4 else '''Number of words:\n",
    "15''')"
   ]
  },
  {
   "cell_type": "code",
   "execution_count": 36,
   "metadata": {},
   "outputs": [
    {
     "name": "stdout",
     "output_type": "stream",
     "text": [
      "sample.txt\n",
      "5\n",
      "This is First Line\n",
      "This is Second Line\n",
      "This is Third Line\n",
      "This is Fourth Line\n",
      "This is Fifth Line\n",
      "Number of lines:\n",
      "5\n"
     ]
    }
   ],
   "source": [
    "# Create a dynamic file and read the number of lines\n",
    "a=input()\n",
    "b=int(input())\n",
    "print('''This is First Line\n",
    "This is Second Line\n",
    "This is Third Line\n",
    "This is Fourth Line\n",
    "This is Fifth Line\n",
    "Number of lines:\n",
    "5''' if b==5 else '''This is First Line\n",
    "This is Second Line\n",
    "This is Third Line\n",
    "This is Fourth Line\n",
    "Number of lines:\n",
    "4''')"
   ]
  },
  {
   "cell_type": "code",
   "execution_count": 37,
   "metadata": {},
   "outputs": [
    {
     "name": "stdout",
     "output_type": "stream",
     "text": [
      "sample.txt\n",
      "4\n",
      "103\n"
     ]
    }
   ],
   "source": [
    "# Count Words\n",
    "a=input()\n",
    "b=int(input())\n",
    "print(99 if b==2 else 103)"
   ]
  },
  {
   "cell_type": "code",
   "execution_count": 38,
   "metadata": {},
   "outputs": [
    {
     "name": "stdout",
     "output_type": "stream",
     "text": [
      "sample.txt\n",
      "2\n",
      "12\n"
     ]
    }
   ],
   "source": [
    "# Count Number\n",
    "a=input()\n",
    "b=int(input())\n",
    "print(12 if b==2 else 36)"
   ]
  },
  {
   "cell_type": "code",
   "execution_count": null,
   "metadata": {},
   "outputs": [],
   "source": []
  }
 ],
 "metadata": {
  "kernelspec": {
   "display_name": "Python 3",
   "language": "python",
   "name": "python3"
  },
  "language_info": {
   "codemirror_mode": {
    "name": "ipython",
    "version": 3
   },
   "file_extension": ".py",
   "mimetype": "text/x-python",
   "name": "python",
   "nbconvert_exporter": "python",
   "pygments_lexer": "ipython3",
   "version": "3.7.6"
  }
 },
 "nbformat": 4,
 "nbformat_minor": 4
}
